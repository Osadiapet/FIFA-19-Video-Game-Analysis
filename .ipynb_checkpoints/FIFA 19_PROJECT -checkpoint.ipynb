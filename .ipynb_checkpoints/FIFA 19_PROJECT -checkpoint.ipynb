{
 "cells": [
  {
   "cell_type": "code",
   "execution_count": 1,
   "metadata": {},
   "outputs": [],
   "source": [
    "import pandas as pd\n",
    "import numpy as np\n",
    "import seaborn as sns\n",
    "import matplotlib.pyplot as plt \n",
    "%matplotlib inline \n"
   ]
  },
  {
   "cell_type": "markdown",
   "metadata": {},
   "source": [
    "# STATISTICAL DATA ANALYSIS OF FIFA 19 PLAYER RATING"
   ]
  },
  {
   "cell_type": "code",
   "execution_count": 2,
   "metadata": {},
   "outputs": [
    {
     "ename": "FileNotFoundError",
     "evalue": "File b'FIFA 19.csv' does not exist",
     "output_type": "error",
     "traceback": [
      "\u001b[1;31m---------------------------------------------------------------------------\u001b[0m",
      "\u001b[1;31mFileNotFoundError\u001b[0m                         Traceback (most recent call last)",
      "\u001b[1;32m<ipython-input-2-dbd526d8d528>\u001b[0m in \u001b[0;36m<module>\u001b[1;34m()\u001b[0m\n\u001b[0;32m      1\u001b[0m \u001b[1;31m#load data\u001b[0m\u001b[1;33m\u001b[0m\u001b[1;33m\u001b[0m\u001b[0m\n\u001b[1;32m----> 2\u001b[1;33m \u001b[0mdata\u001b[0m\u001b[1;33m=\u001b[0m\u001b[0mpd\u001b[0m\u001b[1;33m.\u001b[0m\u001b[0mread_csv\u001b[0m\u001b[1;33m(\u001b[0m\u001b[1;34m\"FIFA 19.csv\"\u001b[0m\u001b[1;33m)\u001b[0m\u001b[1;33m\u001b[0m\u001b[0m\n\u001b[0m\u001b[0;32m      3\u001b[0m \u001b[0mdata\u001b[0m\u001b[1;33m\u001b[0m\u001b[0m\n",
      "\u001b[1;32mC:\\ProgramData\\Anaconda3\\lib\\site-packages\\pandas\\io\\parsers.py\u001b[0m in \u001b[0;36mparser_f\u001b[1;34m(filepath_or_buffer, sep, delimiter, header, names, index_col, usecols, squeeze, prefix, mangle_dupe_cols, dtype, engine, converters, true_values, false_values, skipinitialspace, skiprows, nrows, na_values, keep_default_na, na_filter, verbose, skip_blank_lines, parse_dates, infer_datetime_format, keep_date_col, date_parser, dayfirst, iterator, chunksize, compression, thousands, decimal, lineterminator, quotechar, quoting, escapechar, comment, encoding, dialect, tupleize_cols, error_bad_lines, warn_bad_lines, skipfooter, skip_footer, doublequote, delim_whitespace, as_recarray, compact_ints, use_unsigned, low_memory, buffer_lines, memory_map, float_precision)\u001b[0m\n\u001b[0;32m    707\u001b[0m                     skip_blank_lines=skip_blank_lines)\n\u001b[0;32m    708\u001b[0m \u001b[1;33m\u001b[0m\u001b[0m\n\u001b[1;32m--> 709\u001b[1;33m         \u001b[1;32mreturn\u001b[0m \u001b[0m_read\u001b[0m\u001b[1;33m(\u001b[0m\u001b[0mfilepath_or_buffer\u001b[0m\u001b[1;33m,\u001b[0m \u001b[0mkwds\u001b[0m\u001b[1;33m)\u001b[0m\u001b[1;33m\u001b[0m\u001b[0m\n\u001b[0m\u001b[0;32m    710\u001b[0m \u001b[1;33m\u001b[0m\u001b[0m\n\u001b[0;32m    711\u001b[0m     \u001b[0mparser_f\u001b[0m\u001b[1;33m.\u001b[0m\u001b[0m__name__\u001b[0m \u001b[1;33m=\u001b[0m \u001b[0mname\u001b[0m\u001b[1;33m\u001b[0m\u001b[0m\n",
      "\u001b[1;32mC:\\ProgramData\\Anaconda3\\lib\\site-packages\\pandas\\io\\parsers.py\u001b[0m in \u001b[0;36m_read\u001b[1;34m(filepath_or_buffer, kwds)\u001b[0m\n\u001b[0;32m    447\u001b[0m \u001b[1;33m\u001b[0m\u001b[0m\n\u001b[0;32m    448\u001b[0m     \u001b[1;31m# Create the parser.\u001b[0m\u001b[1;33m\u001b[0m\u001b[1;33m\u001b[0m\u001b[0m\n\u001b[1;32m--> 449\u001b[1;33m     \u001b[0mparser\u001b[0m \u001b[1;33m=\u001b[0m \u001b[0mTextFileReader\u001b[0m\u001b[1;33m(\u001b[0m\u001b[0mfilepath_or_buffer\u001b[0m\u001b[1;33m,\u001b[0m \u001b[1;33m**\u001b[0m\u001b[0mkwds\u001b[0m\u001b[1;33m)\u001b[0m\u001b[1;33m\u001b[0m\u001b[0m\n\u001b[0m\u001b[0;32m    450\u001b[0m \u001b[1;33m\u001b[0m\u001b[0m\n\u001b[0;32m    451\u001b[0m     \u001b[1;32mif\u001b[0m \u001b[0mchunksize\u001b[0m \u001b[1;32mor\u001b[0m \u001b[0miterator\u001b[0m\u001b[1;33m:\u001b[0m\u001b[1;33m\u001b[0m\u001b[0m\n",
      "\u001b[1;32mC:\\ProgramData\\Anaconda3\\lib\\site-packages\\pandas\\io\\parsers.py\u001b[0m in \u001b[0;36m__init__\u001b[1;34m(self, f, engine, **kwds)\u001b[0m\n\u001b[0;32m    816\u001b[0m             \u001b[0mself\u001b[0m\u001b[1;33m.\u001b[0m\u001b[0moptions\u001b[0m\u001b[1;33m[\u001b[0m\u001b[1;34m'has_index_names'\u001b[0m\u001b[1;33m]\u001b[0m \u001b[1;33m=\u001b[0m \u001b[0mkwds\u001b[0m\u001b[1;33m[\u001b[0m\u001b[1;34m'has_index_names'\u001b[0m\u001b[1;33m]\u001b[0m\u001b[1;33m\u001b[0m\u001b[0m\n\u001b[0;32m    817\u001b[0m \u001b[1;33m\u001b[0m\u001b[0m\n\u001b[1;32m--> 818\u001b[1;33m         \u001b[0mself\u001b[0m\u001b[1;33m.\u001b[0m\u001b[0m_make_engine\u001b[0m\u001b[1;33m(\u001b[0m\u001b[0mself\u001b[0m\u001b[1;33m.\u001b[0m\u001b[0mengine\u001b[0m\u001b[1;33m)\u001b[0m\u001b[1;33m\u001b[0m\u001b[0m\n\u001b[0m\u001b[0;32m    819\u001b[0m \u001b[1;33m\u001b[0m\u001b[0m\n\u001b[0;32m    820\u001b[0m     \u001b[1;32mdef\u001b[0m \u001b[0mclose\u001b[0m\u001b[1;33m(\u001b[0m\u001b[0mself\u001b[0m\u001b[1;33m)\u001b[0m\u001b[1;33m:\u001b[0m\u001b[1;33m\u001b[0m\u001b[0m\n",
      "\u001b[1;32mC:\\ProgramData\\Anaconda3\\lib\\site-packages\\pandas\\io\\parsers.py\u001b[0m in \u001b[0;36m_make_engine\u001b[1;34m(self, engine)\u001b[0m\n\u001b[0;32m   1047\u001b[0m     \u001b[1;32mdef\u001b[0m \u001b[0m_make_engine\u001b[0m\u001b[1;33m(\u001b[0m\u001b[0mself\u001b[0m\u001b[1;33m,\u001b[0m \u001b[0mengine\u001b[0m\u001b[1;33m=\u001b[0m\u001b[1;34m'c'\u001b[0m\u001b[1;33m)\u001b[0m\u001b[1;33m:\u001b[0m\u001b[1;33m\u001b[0m\u001b[0m\n\u001b[0;32m   1048\u001b[0m         \u001b[1;32mif\u001b[0m \u001b[0mengine\u001b[0m \u001b[1;33m==\u001b[0m \u001b[1;34m'c'\u001b[0m\u001b[1;33m:\u001b[0m\u001b[1;33m\u001b[0m\u001b[0m\n\u001b[1;32m-> 1049\u001b[1;33m             \u001b[0mself\u001b[0m\u001b[1;33m.\u001b[0m\u001b[0m_engine\u001b[0m \u001b[1;33m=\u001b[0m \u001b[0mCParserWrapper\u001b[0m\u001b[1;33m(\u001b[0m\u001b[0mself\u001b[0m\u001b[1;33m.\u001b[0m\u001b[0mf\u001b[0m\u001b[1;33m,\u001b[0m \u001b[1;33m**\u001b[0m\u001b[0mself\u001b[0m\u001b[1;33m.\u001b[0m\u001b[0moptions\u001b[0m\u001b[1;33m)\u001b[0m\u001b[1;33m\u001b[0m\u001b[0m\n\u001b[0m\u001b[0;32m   1050\u001b[0m         \u001b[1;32melse\u001b[0m\u001b[1;33m:\u001b[0m\u001b[1;33m\u001b[0m\u001b[0m\n\u001b[0;32m   1051\u001b[0m             \u001b[1;32mif\u001b[0m \u001b[0mengine\u001b[0m \u001b[1;33m==\u001b[0m \u001b[1;34m'python'\u001b[0m\u001b[1;33m:\u001b[0m\u001b[1;33m\u001b[0m\u001b[0m\n",
      "\u001b[1;32mC:\\ProgramData\\Anaconda3\\lib\\site-packages\\pandas\\io\\parsers.py\u001b[0m in \u001b[0;36m__init__\u001b[1;34m(self, src, **kwds)\u001b[0m\n\u001b[0;32m   1693\u001b[0m         \u001b[0mkwds\u001b[0m\u001b[1;33m[\u001b[0m\u001b[1;34m'allow_leading_cols'\u001b[0m\u001b[1;33m]\u001b[0m \u001b[1;33m=\u001b[0m \u001b[0mself\u001b[0m\u001b[1;33m.\u001b[0m\u001b[0mindex_col\u001b[0m \u001b[1;32mis\u001b[0m \u001b[1;32mnot\u001b[0m \u001b[1;32mFalse\u001b[0m\u001b[1;33m\u001b[0m\u001b[0m\n\u001b[0;32m   1694\u001b[0m \u001b[1;33m\u001b[0m\u001b[0m\n\u001b[1;32m-> 1695\u001b[1;33m         \u001b[0mself\u001b[0m\u001b[1;33m.\u001b[0m\u001b[0m_reader\u001b[0m \u001b[1;33m=\u001b[0m \u001b[0mparsers\u001b[0m\u001b[1;33m.\u001b[0m\u001b[0mTextReader\u001b[0m\u001b[1;33m(\u001b[0m\u001b[0msrc\u001b[0m\u001b[1;33m,\u001b[0m \u001b[1;33m**\u001b[0m\u001b[0mkwds\u001b[0m\u001b[1;33m)\u001b[0m\u001b[1;33m\u001b[0m\u001b[0m\n\u001b[0m\u001b[0;32m   1696\u001b[0m \u001b[1;33m\u001b[0m\u001b[0m\n\u001b[0;32m   1697\u001b[0m         \u001b[1;31m# XXX\u001b[0m\u001b[1;33m\u001b[0m\u001b[1;33m\u001b[0m\u001b[0m\n",
      "\u001b[1;32mpandas/_libs/parsers.pyx\u001b[0m in \u001b[0;36mpandas._libs.parsers.TextReader.__cinit__\u001b[1;34m()\u001b[0m\n",
      "\u001b[1;32mpandas/_libs/parsers.pyx\u001b[0m in \u001b[0;36mpandas._libs.parsers.TextReader._setup_parser_source\u001b[1;34m()\u001b[0m\n",
      "\u001b[1;31mFileNotFoundError\u001b[0m: File b'FIFA 19.csv' does not exist"
     ]
    }
   ],
   "source": [
    "#load data\n",
    "data=pd.read_csv(\"FIFA 19.csv\")\n",
    "data"
   ]
  },
  {
   "cell_type": "code",
   "execution_count": null,
   "metadata": {},
   "outputs": [],
   "source": []
  },
  {
   "cell_type": "markdown",
   "metadata": {},
   "source": [
    "# EXPLORING THE DATA"
   ]
  },
  {
   "cell_type": "code",
   "execution_count": null,
   "metadata": {},
   "outputs": [],
   "source": [
    "data.describe()"
   ]
  },
  {
   "cell_type": "code",
   "execution_count": null,
   "metadata": {},
   "outputs": [],
   "source": [
    "(data.columns)"
   ]
  },
  {
   "cell_type": "code",
   "execution_count": null,
   "metadata": {},
   "outputs": [],
   "source": [
    "data.info()"
   ]
  },
  {
   "cell_type": "code",
   "execution_count": null,
   "metadata": {},
   "outputs": [],
   "source": [
    "#looking at the total number of players in the dataset\n",
    "players=data[\"Name\"].count()\n",
    "print(\"There are\",players,\"players in the dataset\")"
   ]
  },
  {
   "cell_type": "code",
   "execution_count": null,
   "metadata": {},
   "outputs": [],
   "source": [
    "#work rate of players\n",
    "work_rate=data[\"Work Rate\"]\n",
    "work_rate.value_counts()"
   ]
  },
  {
   "cell_type": "code",
   "execution_count": null,
   "metadata": {},
   "outputs": [],
   "source": [
    "#looking at the body type of players\n",
    "body_type=data[\"Body Type\"]\n",
    "body_type.value_counts()"
   ]
  },
  {
   "cell_type": "code",
   "execution_count": null,
   "metadata": {},
   "outputs": [],
   "source": [
    "skill_moves=data[\"Skill Moves\"].value_counts()\n",
    "skill_moves"
   ]
  },
  {
   "cell_type": "code",
   "execution_count": null,
   "metadata": {},
   "outputs": [],
   "source": []
  },
  {
   "cell_type": "markdown",
   "metadata": {},
   "source": [
    "# COUNTRIES WITH MOST PLAYERS"
   ]
  },
  {
   "cell_type": "code",
   "execution_count": null,
   "metadata": {},
   "outputs": [],
   "source": [
    "from collections import Counter\n",
    "countries=Counter(data[\"Nationality\"].values).most_common()\n",
    "print(\"the number of players in each country are\", countries)"
   ]
  },
  {
   "cell_type": "code",
   "execution_count": null,
   "metadata": {
    "scrolled": true
   },
   "outputs": [],
   "source": [
    "#alternative way of looking at the number of players in each country\n",
    "data[\"Nationality\"].value_counts()"
   ]
  },
  {
   "cell_type": "markdown",
   "metadata": {},
   "source": [
    "# ANALYSIS OF PLAYERS PER EACH POSITION"
   ]
  },
  {
   "cell_type": "code",
   "execution_count": null,
   "metadata": {
    "scrolled": true
   },
   "outputs": [],
   "source": [
    "#Best players in each position based on their overall scores \n",
    "data.loc[data.groupby(data[\"Position\"])[\"Overall\"].idxmax()]\n",
    "data.loc[data.groupby(data[\"Position\"])[\"Overall\"].idxmax()][['Position', 'Name', \"Age\", \"Nationality\",'Club','Overall']]"
   ]
  },
  {
   "cell_type": "code",
   "execution_count": null,
   "metadata": {
    "scrolled": true
   },
   "outputs": [],
   "source": [
    "#worst players in each of the positions \n",
    "data.loc[data.groupby(data[\"Position\"])[\"Overall\"].idxmin()][['Position','Name','Age','Nationality','Club',\"Overall\"]]"
   ]
  },
  {
   "cell_type": "markdown",
   "metadata": {},
   "source": [
    "# DETERMINING THE CORRELATION OF THE VARIOUS FEATURES "
   ]
  },
  {
   "cell_type": "code",
   "execution_count": null,
   "metadata": {},
   "outputs": [],
   "source": [
    "data[['Age','Crossing', 'International Reputation',\n",
    "       'Skill Moves', 'Work Rate', 'Body Type','Overall', 'Potential', 'Value', 'Wage',\n",
    "       'Finishing', 'HeadingAccuracy', 'ShortPassing', 'Volleys', 'Dribbling',\n",
    "       'Curve', 'FKAccuracy', 'LongPassing', 'BallControl', 'Acceleration',\n",
    "       'SprintSpeed', 'Agility', 'Reactions', 'Balance', 'ShotPower',\n",
    "       'Jumping', 'Stamina', 'Strength', 'LongShots', 'Aggression',\n",
    "       'Interceptions', 'Positioning', 'Vision', 'Penalties', 'Composure',\n",
    "       'Marking', 'StandingTackle', 'SlidingTackle', 'GKDiving', 'GKHandling',\n",
    "       'GKKicking', 'GKPositioning', 'GKReflexes']].corr()"
   ]
  },
  {
   "cell_type": "code",
   "execution_count": null,
   "metadata": {
    "scrolled": true
   },
   "outputs": [],
   "source": [
    "#looking at the heatmap for all features\n",
    "plt.figure(figsize=(10,8))\n",
    "plt.title(\"Heatmap for all features\")\n",
    "sns.heatmap(data[['Age','Crossing', 'International Reputation',\n",
    "       'Skill Moves', 'Work Rate', 'Body Type','Overall', 'Potential', 'Value', 'Wage',\n",
    "       'Finishing', 'HeadingAccuracy', 'ShortPassing', 'Volleys', 'Dribbling',\n",
    "       'Curve', 'FKAccuracy', 'LongPassing', 'BallControl', 'Acceleration',\n",
    "       'SprintSpeed', 'Agility', 'Reactions', 'Balance', 'ShotPower',\n",
    "       'Jumping', 'Stamina', 'Strength', 'LongShots', 'Aggression',\n",
    "       'Interceptions', 'Positioning', 'Vision', 'Penalties', 'Composure',\n",
    "       'Marking', 'StandingTackle', 'SlidingTackle', 'GKDiving', 'GKHandling',\n",
    "       'GKKicking', 'GKPositioning', 'GKReflexes']].corr(), linewidths=.5)\n",
    "plt.show()\n",
    "print(\"this heatmap shows how various features of the players are correlated. From the graph, a white box signifies \"\n",
    "     \"a stronger correlation between two intersecting features. A black box shows a weaker correlation whiles orange or red \"\n",
    "     \"shows neither positive nor negative correlation.  The diagonal white line shows self correlation, that is, correlation \"\n",
    "     \"between same variables, which is 1. for eg, from the heatmap, looking at where marking and sliding tackle intersect is \"\n",
    "     \"white meaning a player who marks very well also slides very well as well which in real football matches, its always the \"\n",
    "     \"case.  Also where Age and potential intersect, it shows no correlation. which means that a player's age does not determine \"\n",
    "     \"his potential which is also the case. Mbappe wouldn't have got that high potential\")"
   ]
  },
  {
   "cell_type": "code",
   "execution_count": null,
   "metadata": {},
   "outputs": [],
   "source": [
    "#age distribution of players\n",
    "age=data[\"Age\"]\n",
    "plt.title('age distribution of players')\n",
    "plt.hist(age)\n",
    "plt.xlabel(\"age\")\n",
    "plt.ylabel(\"Number of players\")\n",
    "plt.show()"
   ]
  },
  {
   "cell_type": "code",
   "execution_count": null,
   "metadata": {},
   "outputs": [],
   "source": []
  },
  {
   "cell_type": "code",
   "execution_count": null,
   "metadata": {},
   "outputs": [],
   "source": [
    "#distribution of overall ratings of players\n",
    "overall=data.Overall\n",
    "plt.title(\"distribution of players by overall ratings \")\n",
    "plt.hist(overall)\n",
    "plt.xlabel(\"overall rating\")\n",
    "plt.ylabel(\"number of players \")\n",
    "plt.show()\n",
    "print(\"The average overall rating of a player is \", np.mean(data[\"Overall\"]))"
   ]
  },
  {
   "cell_type": "code",
   "execution_count": null,
   "metadata": {},
   "outputs": [],
   "source": [
    "#looking at the relationship between age and overall ratings to see if a persons age has impact on his overall rating\n",
    "overall=data[\"Overall\"]\n",
    "plt.title(\"Relationship between age and overall rating\")\n",
    "plt.scatter(age, overall)\n",
    "plt.xlabel(\"Age\")\n",
    "plt.ylabel(\"overall rating\")\n",
    "plt.show()"
   ]
  },
  {
   "cell_type": "code",
   "execution_count": null,
   "metadata": {},
   "outputs": [],
   "source": [
    "#want to determine if a there is a relationship between a players value and overall rating\n",
    "value=data[\"Value\"].str.replace(\"[€,M,K]\", \"\")\n",
    "new_value=value.astype(\"float\")\n",
    "overall=data[\"Overall\"]\n",
    "plt.title(\"Relationship between player's value and overall rating\")\n",
    "plt.scatter(new_value, overall)\n",
    "plt.xlabel(\"Value of player\")\n",
    "plt.ylabel(\"Overall rating\")\n",
    "plt.show()\n",
    "\n",
    "#determining the relationship between a players wage and overall rating\n",
    "wage=data[\"Wage\"].str.replace(\"[€,M,K]\",\"\")\n",
    "new_wage=wage.astype(\"int\")\n",
    "overall=data[\"Overall\"]\n",
    "plt.title(\"Relationship between player's wage and overall rating\")\n",
    "plt.scatter(new_wage, overall)\n",
    "plt.xlabel(\"wage of player\")\n",
    "plt.ylabel(\"Overall rating\")\n",
    "plt.show()\n"
   ]
  },
  {
   "cell_type": "code",
   "execution_count": null,
   "metadata": {},
   "outputs": [],
   "source": []
  },
  {
   "cell_type": "code",
   "execution_count": null,
   "metadata": {},
   "outputs": [],
   "source": [
    "#looking at some hidden facts in the dataset\n",
    "oldest=data.loc[data['Age'].idxmax()]\n",
    "youngest=data.loc[data[\"Age\"].idxmin()]\n",
    "best=data.loc[data[\"Overall\"].idxmax()]\n",
    "worst=data.loc[data[\"Overall\"].idxmin()]\n",
    "fast=data.loc[data[\"SprintSpeed\"].idxmax()]\n",
    "slow=data.loc[data[\"SprintSpeed\"].idxmin()]\n",
    "dribbler=data.loc[data[\"Dribbling\"].idxmax()]\n",
    "volley=data.loc[data[\"Volleys\"].idxmax()]\n",
    "jump=data.loc[data[\"Jumping\"].idxmax()]\n",
    "penalty=data.loc[data[\"Penalties\"].idxmax()]\n",
    "worst_p=data.loc[data[\"Penalties\"].idxmin()]\n",
    "intercept=data.loc[data[\"Interceptions\"].idxmax()]\n",
    "aggresive=data.loc[data[\"Aggression\"].idxmax()]\n",
    "vision=data.loc[data[\"Vision\"].idxmax()]\n",
    "GK=data.loc[data[\"GKReflexes\"].idxmax()]\n",
    "Gk_dive=data.loc[data[\"GKDiving\"].idxmax()]\n",
    "intl_repute=data.loc[data[\"International Reputation\"].idxmax()]\n",
    "agility=data.loc[data[\"Agility\"].idxmax()]\n",
    "stamina=data.loc[data[\"Stamina\"].idxmax()]\n",
    "control=data.loc[data[\"BallControl\"].idxmax()]\n",
    "shot=data.loc[data[\"ShotPower\"].idxmax()]\n",
    "acceleration=data.loc[data[\"Acceleration\"].idxmax()]\n",
    "marking=data.loc[data[\"Marking\"].idxmax()]\n",
    "long_passing=data.loc[data[\"LongPassing\"].idxmax()]\n",
    "free_kick=data.loc[data[\"FKAccuracy\"].idxmax()]\n",
    "finish=data.loc[data[\"Finishing\"].idxmax()]\n",
    "print(\"the oldest player is\",data[\"Age\"].max(),\"years\",\".\" \"His name is\", oldest[\"Name\"], \"from\", oldest[\"Nationality\"], \"and plays for\", \n",
    "      oldest[\"Club\"])\n",
    "print(\"the youngest player is\",data[\"Age\"].min(),\".\" \"His name is\", youngest[\"Name\"], \"from\", youngest[\"Nationality\"],\n",
    "      \"and plays for\", youngest[\"Club\"])\n",
    "print(\"the best player has an overall rating of\",data[\"Overall\"].max(),\".\" \"His name is\", best[\"Name\"], \"from\", best[\"Nationality\"],\n",
    "      \"and plays for\", best[\"Club\"])\n",
    "print(\"The worst player has an overall rating of\", data[\"Overall\"].min(),\".\", \"His name is\", worst[\"Name\"], \"from\",\n",
    "     worst[\"Nationality\"], \"and plays for\", worst[\"Club\"])\n",
    "print(\"The most fastest player has a sprint speed of\", data[\"SprintSpeed\"].max(),\".\", \"His name is\", fast[\"Name\"], \"from\",\n",
    "     fast[\"Nationality\"], \"and plays for\", fast[\"Club\"])\n",
    "print(\"The most slowest player has a sprint speed of\", data[\"SprintSpeed\"].min(),\".\", \"His name is\", slow[\"Name\"], \"from\",\n",
    "     slow[\"Nationality\"], \"and plays for\", slow[\"Club\"])\n",
    "print(\"The best dribbler has a dribbling ability of\", data[\"Dribbling\"].max(),\".\", \"His name is\", dribbler[\"Name\"], \"from\",\n",
    "     dribbler[\"Nationality\"], \"and plays for\", dribbler[\"Club\"])\n",
    "print(\"The player who plays volley more than anyone has a Volley play ability of\", data[\"Volleys\"].max(),\".\", \"His name is\",\n",
    "      volley[\"Name\"], \"from\",volley[\"Nationality\"], \"and plays for\", volley[\"Club\"])\n",
    "print(\"The player with the best jump has a jumping rate of\", data[\"Jumping\"].max(),\".\", \"His name is\", jump[\"Name\"], \"from\",\n",
    "     jump[\"Nationality\"], \"and plays for\", jump[\"Club\"])\n",
    "print(\"The best penalty taker has a penalty taking ability of\", data[\"Penalties\"].max(),\".\", \"His name is\", penalty[\"Name\"],\n",
    "      \"from\",penalty[\"Nationality\"], \"and plays for\", penalty[\"Club\"])\n",
    "print(\"The worst penalty taker has a penalty taking ability of\", data[\"Penalties\"].min(),\".\", \"His name is\", worst_p[\"Name\"],\n",
    "      \"from\",worst_p[\"Nationality\"], \"and plays for\", worst_p[\"Club\"])\n",
    "print(\"The most aggressive player has a aggresive ability of\", data[\"Aggression\"].max(),\".\", \"His name is\", aggresive[\"Name\"],\n",
    "      \"from\", aggresive[\"Nationality\"], \"and plays for\", aggresive[\"Club\"])\n",
    "print(\"The player with the best interception has an intercepting ability of\", data[\"Interceptions\"].max(),\".\", \"His name is\",\n",
    "      intercept[\"Name\"], \"from\",intercept[\"Nationality\"], \"and plays for\", intercept[\"Club\"])\n",
    "print(\"The player with the best vision has a vision ability of\", data[\"Vision\"].max(),\".\", \"His name is\", vision[\"Name\"], \n",
    "      \"from\",vision[\"Nationality\"], \"and plays for\", vision[\"Club\"])\n",
    "print(\"The goalkeeper with good reflexes has a reflex ability of\", data[\"GKReflexes\"].max(),\".\", \"His name is\", GK[\"Name\"], \n",
    "      \"from\", GK[\"Nationality\"], \"and plays for\", GK[\"Club\"])\n",
    "print(\"The player with high international reputation has an international rating of \", data[\"International Reputation\"].max(),\".\",\n",
    "      \"His name is\", intl_repute[\"Name\"], \"from\",intl_repute[\"Nationality\"], \"and plays for\", intl_repute[\"Club\"])\n",
    "print(\"The goalkeeper with the highest diving ability has a diving ability of\", data[\"GKDiving\"].max(),\".\", \"His name is\", \n",
    "      Gk_dive[\"Name\"], \"from\",Gk_dive[\"Nationality\"], \"and plays for\", Gk_dive[\"Club\"])\n",
    "print(\"The player with the highest agility has agility rating of\", data[\"Agility\"].max(),\".\", \"His name is\", \n",
    "      agility[\"Name\"], \"from\",agility[\"Nationality\"], \"and plays for\", agility[\"Club\"])\n",
    "print(\"The player with the highest stamina has a stamina rating of\", data[\"Stamina\"].max(),\".\", \"His name is\", \n",
    "      stamina[\"Name\"], \"from\",stamina[\"Nationality\"], \"and plays for\", stamina[\"Club\"])\n",
    "print(\"The best controller of the ball has a ball control rate of\", data[\"BallControl\"].max(),\".\", \"His name is\", \n",
    "      control[\"Name\"], \"from\",control[\"Nationality\"], \"and plays for\", control[\"Club\"])\n",
    "print(\"The player with the most powerful shot has a shooting power of\", data[\"ShotPower\"].max(),\".\", \"His name is\", \n",
    "      shot[\"Name\"], \"from\",shot[\"Nationality\"], \"and plays for\", shot[\"Club\"])\n",
    "print(\"The player with the highest acceleration has an acceleration rating of\", data[\"Acceleration\"].max(),\".\", \"His name is\", \n",
    "      acceleration[\"Name\"], \"from\",acceleration[\"Nationality\"], \"and plays for\", acceleration[\"Club\"])\n",
    "print(\"The player who marks very well has a marking rating of\", data[\"Marking\"].max(),\".\", \"His name is\", \n",
    "      marking[\"Name\"], \"from\",marking[\"Nationality\"], \"and plays for\", marking[\"Club\"])\n",
    "print(\"The best freekick taker has an accuracy of\", data[\"FKAccuracy\"].max(),\".\", \"His name is\", \n",
    "      free_kick[\"Name\"], \"from\",free_kick[\"Nationality\"], \"and plays for\", free_kick[\"Club\"])\n",
    "print(\"The best long ball passer of the ball has a passing accuracy of\", data[\"LongPassing\"].max(),\".\", \"His name is\", \n",
    "      long_passing[\"Name\"], \"from\",long_passing[\"Nationality\"], \"and plays for\", long_passing[\"Club\"])\n",
    "print(\"The best finisher has a finishing rating of\", data[\"Finishing\"].max(),\".\", \"His name is\", \n",
    "      finish[\"Name\"], \"from\",finish[\"Nationality\"], \"and plays for\", finish[\"Club\"])\n",
    "\n"
   ]
  },
  {
   "cell_type": "markdown",
   "metadata": {},
   "source": [
    "# LOOKING AT PREFERRED FOOT OF PLAYERS"
   ]
  },
  {
   "cell_type": "code",
   "execution_count": null,
   "metadata": {},
   "outputs": [],
   "source": []
  },
  {
   "cell_type": "code",
   "execution_count": null,
   "metadata": {},
   "outputs": [],
   "source": [
    "#preferred foot of players\n",
    "preferred=data[\"Preferred Foot\"]\n",
    "preferred_foot=preferred.dropna()\n",
    "preferred_foot.value_counts()\n",
    "\n",
    "preferred_foot=data[\"Preferred Foot\"].value_counts()\n",
    "plt.title(\"Distribution of players according to their preferred foot\")\n",
    "plt.pie(preferred_foot, labels=(\"Right\",\"Left\"),autopct='%1.1f%%')\n",
    "plt.show()"
   ]
  },
  {
   "cell_type": "code",
   "execution_count": null,
   "metadata": {},
   "outputs": [],
   "source": []
  },
  {
   "cell_type": "markdown",
   "metadata": {},
   "source": [
    "# ANALYSING THE CLUBS"
   ]
  },
  {
   "cell_type": "code",
   "execution_count": null,
   "metadata": {},
   "outputs": [],
   "source": [
    "clubs=data[\"Club\"].unique()\n",
    "club_size=len(clubs)\n",
    "total_players=data[\"Name\"].count()\n",
    "average_players=total_players/club_size\n",
    "print('There are a total of',club_size,'clubs in the dataset.','and an average of',average_players,'players in each club')\n"
   ]
  },
  {
   "cell_type": "code",
   "execution_count": null,
   "metadata": {
    "scrolled": true
   },
   "outputs": [],
   "source": [
    "from collections import Counter\n",
    "all_clubs=Counter(data[\"Club\"].values).most_common()\n",
    "all_clubs"
   ]
  },
  {
   "cell_type": "markdown",
   "metadata": {},
   "source": [
    "# ANALYSIS OF SOME SELECTED NATIONAL TEAMS "
   ]
  },
  {
   "cell_type": "code",
   "execution_count": null,
   "metadata": {
    "scrolled": true
   },
   "outputs": [],
   "source": [
    "#looking at some of the powerhouse countries in world football \n",
    "countries=['England','Germany','Spain','Argentina','Brazil','Netherlands','Portugal','France','Italy','Uruguay','Belgium']\n",
    "countries=data.loc[data[\"Nationality\"].isin(countries)][['Name',\"Nationality\",'Age','Overall','Wage',\"International Reputation\"]]\n",
    "countries"
   ]
  },
  {
   "cell_type": "code",
   "execution_count": null,
   "metadata": {},
   "outputs": [],
   "source": [
    "#looking at the distribution of wages of players in their countries to see which country's players have the highest wages\n",
    "nationality=countries['Nationality']\n",
    "wage=countries['Wage'].str.replace('[€,M,K]',\"\")\n",
    "country_wage=wage.astype(\"int\")\n",
    "plt.title(\"Distrbution of wages of players by country\")\n",
    "plt.bar(nationality,country_wage)\n",
    "plt.xticks(rotation=60)\n",
    "plt.show()\n",
    "\n",
    "#distribution of players international reputation in their respected couuntries. some big national teams \n",
    "intl_reputation=countries[\"International Reputation\"]\n",
    "plt.bar(nationality,intl_reputation)\n",
    "plt.title(\"Distribution of players international reputations by country\")\n",
    "plt.xticks(rotation=60)\n",
    "plt.show()\n",
    "\n",
    "#distribution of players overall ratings with respect to their countries\n",
    "overall=countries[\"Overall\"]\n",
    "plt.title('distribution of players overall ratings by country')\n",
    "plt.bar(nationality,overall)\n",
    "plt.xticks(rotation=60)\n",
    "plt.show()\n",
    "\n"
   ]
  },
  {
   "cell_type": "markdown",
   "metadata": {},
   "source": [
    "# POPULAR AFRICAN NATIONAL TEAMS"
   ]
  },
  {
   "cell_type": "code",
   "execution_count": null,
   "metadata": {
    "scrolled": true
   },
   "outputs": [],
   "source": [
    "#looking at some powerhouses of African countries\n",
    "africa=[\"Ghana\", 'Nigeria','Cameroon','Egypt','Ivory Coast','Senegal','Algeria','Morocco','Tunisia','South Africa','Mali']\n",
    "africa=data.loc[data['Nationality'].isin(africa)]\n",
    "africa"
   ]
  },
  {
   "cell_type": "code",
   "execution_count": null,
   "metadata": {},
   "outputs": [],
   "source": [
    "africa.shape"
   ]
  },
  {
   "cell_type": "code",
   "execution_count": null,
   "metadata": {},
   "outputs": [],
   "source": [
    "africa.describe()"
   ]
  },
  {
   "cell_type": "code",
   "execution_count": null,
   "metadata": {},
   "outputs": [],
   "source": [
    "#looking at the number of players in each of the selected African countries\n",
    "more=africa['Nationality'].value_counts()\n",
    "more"
   ]
  },
  {
   "cell_type": "code",
   "execution_count": null,
   "metadata": {},
   "outputs": [],
   "source": [
    "#looking at which African country's players have the highest wage\n",
    "wage=africa['Wage'].str.replace('[€,M,K]',\"\")\n",
    "africa_wage=wage.astype(\"int\")\n",
    "nation=africa['Nationality']\n",
    "plt.title(\"Distribution of African player's wages with respect to national teams\")\n",
    "plt.bar(nation,africa_wage)\n",
    "plt.xticks(rotation=60)\n",
    "plt.show()\n"
   ]
  },
  {
   "cell_type": "code",
   "execution_count": null,
   "metadata": {},
   "outputs": [],
   "source": []
  },
  {
   "cell_type": "code",
   "execution_count": null,
   "metadata": {},
   "outputs": [],
   "source": [
    "#looking at which African country has the highest overall rating \n",
    "overall=africa['Overall']\n",
    "nations=africa['Nationality']\n",
    "plt.title('Distribution of African players overall rating with respect to their countries')\n",
    "plt.bar(nations,overall)\n",
    "plt.xlabel('African countries')\n",
    "plt.ylabel(\"Overall Ratings of players\")\n",
    "plt.xticks(rotation=60)\n",
    "plt.show()"
   ]
  },
  {
   "cell_type": "code",
   "execution_count": null,
   "metadata": {},
   "outputs": [],
   "source": [
    "#looking at the best players in Africa with respect to their positions\n",
    "africa.loc[africa.groupby(africa['Position'])[\"Overall\"].idxmax()][['Name','Position','Age','Nationality','Club','Overall']]"
   ]
  },
  {
   "cell_type": "code",
   "execution_count": null,
   "metadata": {},
   "outputs": [],
   "source": [
    "#looking at the overall best player in Africa\n",
    "best=africa.loc[africa['Overall'].idxmax()]\n",
    "#looking at the oldest and the youngest player in Africa\n",
    "oldest=africa.loc[africa[\"Age\"].idxmax()]\n",
    "young=africa.loc[africa.Age.idxmin()]\n",
    "print('The best player in Africa has an ooverall rating of',best['Overall'].max(),\".\", 'His name is',best['Name'],'from',\n",
    "     best['Nationality'], 'and plays for',best['Club'])\n",
    "print('The oldest player in Africa is',oldest['Age'].max(),\".\", 'His name is',oldest['Name'],'from',\n",
    "     oldest['Nationality'], 'and plays for',oldest['Club'])\n",
    "print('The youngest player in Africa is',young['Age'].min(),\".\", 'His name is',young['Name'],'from',\n",
    "     young['Nationality'], 'and plays for',young['Club'])"
   ]
  },
  {
   "cell_type": "code",
   "execution_count": null,
   "metadata": {},
   "outputs": [],
   "source": [
    "#looking at the worst players in Africa with their respective position\n",
    "africa.loc[africa.groupby(africa['Position'])[\"Overall\"].idxmin()][['Name','Position','Age','Nationality','Club','Overall']]"
   ]
  },
  {
   "cell_type": "markdown",
   "metadata": {},
   "source": [
    "# GHANAIAN PLAYERS ANALYSIS"
   ]
  },
  {
   "cell_type": "code",
   "execution_count": null,
   "metadata": {},
   "outputs": [],
   "source": []
  },
  {
   "cell_type": "code",
   "execution_count": null,
   "metadata": {},
   "outputs": [],
   "source": [
    "Ghana=data.loc[data[\"Nationality\"]==\"Ghana\"]\n",
    "Ghana\n"
   ]
  },
  {
   "cell_type": "code",
   "execution_count": null,
   "metadata": {},
   "outputs": [],
   "source": [
    "Gh=Ghana[\"Name\"].count()\n",
    "print(\"There are\", Gh, \"Ghanaian players in the dataset\")"
   ]
  },
  {
   "cell_type": "code",
   "execution_count": null,
   "metadata": {},
   "outputs": [],
   "source": [
    "Ghana.describe()"
   ]
  },
  {
   "cell_type": "code",
   "execution_count": null,
   "metadata": {},
   "outputs": [],
   "source": [
    "Ghana[['Age','Crossing', 'International Reputation',\n",
    "       'Skill Moves', 'Work Rate', 'Body Type','Overall', 'Potential', 'Value', 'Wage',\n",
    "       'Finishing', 'HeadingAccuracy', 'ShortPassing', 'Volleys', 'Dribbling',\n",
    "       'Curve', 'FKAccuracy', 'LongPassing', 'BallControl', 'Acceleration',\n",
    "       'SprintSpeed', 'Agility', 'Reactions', 'Balance', 'ShotPower',\n",
    "       'Jumping', 'Stamina', 'Strength', 'LongShots', 'Aggression',\n",
    "       'Interceptions', 'Positioning', 'Vision', 'Penalties', 'Composure',\n",
    "       'Marking', 'StandingTackle', 'SlidingTackle', 'GKDiving', 'GKHandling',\n",
    "       'GKKicking', 'GKPositioning', 'GKReflexes']].corr()"
   ]
  },
  {
   "cell_type": "code",
   "execution_count": null,
   "metadata": {},
   "outputs": [],
   "source": [
    "plt.figure(figsize=(10,8))\n",
    "plt.title(\"Heatmap for Ghanaian players \")\n",
    "sns.heatmap(Ghana[['Age','Crossing', 'International Reputation',\n",
    "       'Skill Moves', 'Work Rate', 'Body Type','Overall', 'Potential', 'Value', 'Wage',\n",
    "       'Finishing', 'HeadingAccuracy', 'ShortPassing', 'Volleys', 'Dribbling',\n",
    "       'Curve', 'FKAccuracy', 'LongPassing', 'BallControl', 'Acceleration',\n",
    "       'SprintSpeed', 'Agility', 'Reactions', 'Balance', 'ShotPower',\n",
    "       'Jumping', 'Stamina', 'Strength', 'LongShots', 'Aggression',\n",
    "       'Interceptions', 'Positioning', 'Vision', 'Penalties', 'Composure',\n",
    "       'Marking', 'StandingTackle', 'SlidingTackle', 'GKDiving', 'GKHandling',\n",
    "       'GKKicking', 'GKPositioning', 'GKReflexes']].corr(),linewidth=.5)\n",
    "plt.show()"
   ]
  },
  {
   "cell_type": "code",
   "execution_count": null,
   "metadata": {},
   "outputs": [],
   "source": [
    "oldest=Ghana.loc[Ghana['Age'].idxmax()]\n",
    "youngest=Ghana.loc[Ghana[\"Age\"].idxmin()]\n",
    "best=Ghana.loc[Ghana[\"Overall\"].idxmax()]\n",
    "worst=Ghana.loc[Ghana[\"Overall\"].idxmin()]\n",
    "fast=Ghana.loc[Ghana[\"SprintSpeed\"].idxmax()]\n",
    "slow=Ghana.loc[Ghana[\"SprintSpeed\"].idxmin()]\n",
    "dribbler=Ghana.loc[Ghana[\"Dribbling\"].idxmax()]\n",
    "volley=Ghana.loc[Ghana[\"Volleys\"].idxmax()]\n",
    "jump=Ghana.loc[Ghana[\"Jumping\"].idxmax()]\n",
    "penalty=Ghana.loc[Ghana[\"Penalties\"].idxmax()]\n",
    "worst_p=Ghana.loc[Ghana[\"Penalties\"].idxmin()]\n",
    "intercept=Ghana.loc[Ghana[\"Interceptions\"].idxmax()]\n",
    "aggresive=Ghana.loc[Ghana[\"Aggression\"].idxmax()]\n",
    "vision=Ghana.loc[Ghana[\"Vision\"].idxmax()]\n",
    "GK=Ghana.loc[Ghana[\"GKReflexes\"].idxmax()]\n",
    "Gk_dive=Ghana.loc[Ghana[\"GKDiving\"].idxmax()]\n",
    "intl_repute=Ghana.loc[Ghana[\"International Reputation\"].idxmax()]\n",
    "agility=Ghana.loc[Ghana[\"Agility\"].idxmax()]\n",
    "stamina=Ghana.loc[Ghana[\"Stamina\"].idxmax()]\n",
    "control=Ghana.loc[Ghana[\"BallControl\"].idxmax()]\n",
    "shot=Ghana.loc[Ghana[\"ShotPower\"].idxmax()]\n",
    "acceleration=Ghana.loc[Ghana[\"Acceleration\"].idxmax()]\n",
    "marking=Ghana.loc[Ghana[\"Marking\"].idxmax()]\n",
    "long_passing=data.loc[Ghana[\"LongPassing\"].idxmax()]\n",
    "free_kick=Ghana.loc[Ghana[\"FKAccuracy\"].idxmax()]\n",
    "finish=Ghana.loc[Ghana[\"Finishing\"].idxmax()]\n",
    "print(\"the oldest player is\",Ghana[\"Age\"].max(),\"years\",\".\" \"His name is\", oldest[\"Name\"], \"from\", oldest[\"Nationality\"], \"and plays for\", \n",
    "      oldest[\"Club\"])\n",
    "print(\"the youngest player is\",Ghana[\"Age\"].min(),\".\" \"His name is\", youngest[\"Name\"], \"from\", youngest[\"Nationality\"],\n",
    "      \"and plays for\", youngest[\"Club\"])\n",
    "print(\"the best player has an overall rating of\",Ghana[\"Overall\"].max(),\".\" \"His name is\", best[\"Name\"], \"from\", best[\"Nationality\"],\n",
    "      \"and plays for\", best[\"Club\"])\n",
    "print(\"The worst player has an overall rating of\", Ghana[\"Overall\"].min(),\".\", \"His name is\", worst[\"Name\"], \"from\",\n",
    "     worst[\"Nationality\"], \"and plays for\", worst[\"Club\"])\n",
    "print(\"The most fastest player has a sprint speed of\", Ghana[\"SprintSpeed\"].max(),\".\", \"His name is\", fast[\"Name\"], \"from\",\n",
    "     fast[\"Nationality\"], \"and plays for\", fast[\"Club\"])\n",
    "print(\"The most slowest player has a sprint speed of\", Ghana[\"SprintSpeed\"].min(),\".\", \"His name is\", slow[\"Name\"], \"from\",\n",
    "     slow[\"Nationality\"], \"and plays for\", slow[\"Club\"])\n",
    "print(\"The best dribbler has a dribbling ability of\", Ghana[\"Dribbling\"].max(),\".\", \"His name is\", dribbler[\"Name\"], \"from\",\n",
    "     dribbler[\"Nationality\"], \"and plays for\", dribbler[\"Club\"])\n",
    "print(\"The player who plays volley more than anyone has a Volley play ability of\", Ghana[\"Volleys\"].max(),\".\", \"His name is\",\n",
    "      volley[\"Name\"], \"from\",volley[\"Nationality\"], \"and plays for\", volley[\"Club\"])\n",
    "print(\"The player with the best jump has a jumping rate of\", Ghana[\"Jumping\"].max(),\".\", \"His name is\", jump[\"Name\"], \"from\",\n",
    "     jump[\"Nationality\"], \"and plays for\", jump[\"Club\"])\n",
    "print(\"The best penalty taker has a penalty taking ability of\", Ghana[\"Penalties\"].max(),\".\", \"His name is\", penalty[\"Name\"],\n",
    "      \"from\",penalty[\"Nationality\"], \"and plays for\", penalty[\"Club\"])\n",
    "print(\"The worst penalty taker has a penalty taking ability of\", Ghana[\"Penalties\"].min(),\".\", \"His name is\", worst_p[\"Name\"],\n",
    "      \"from\",worst_p[\"Nationality\"], \"and plays for\", worst_p[\"Club\"])\n",
    "print(\"The most aggressive player has a aggresive ability of\", Ghana[\"Aggression\"].max(),\".\", \"His name is\", aggresive[\"Name\"],\n",
    "      \"from\", aggresive[\"Nationality\"], \"and plays for\", aggresive[\"Club\"])\n",
    "print(\"The player with the best interception has an intercepting ability of\", Ghana[\"Interceptions\"].max(),\".\", \"His name is\",\n",
    "      intercept[\"Name\"], \"from\",intercept[\"Nationality\"], \"and plays for\", intercept[\"Club\"])\n",
    "print(\"The player with the best vision has a vision ability of\", Ghana[\"Vision\"].max(),\".\", \"His name is\", vision[\"Name\"], \n",
    "      \"from\",vision[\"Nationality\"], \"and plays for\", vision[\"Club\"])\n",
    "print(\"The goalkeeper with good reflexes has a reflex ability of\", Ghana[\"GKReflexes\"].max(),\".\", \"His name is\", GK[\"Name\"], \n",
    "      \"from\", GK[\"Nationality\"], \"and plays for\", GK[\"Club\"])\n",
    "print(\"The player with high international reputation has an international rating of \", Ghana[\"International Reputation\"].max(),\".\",\n",
    "      \"His name is\", intl_repute[\"Name\"], \"from\",intl_repute[\"Nationality\"], \"and plays for\", intl_repute[\"Club\"])\n",
    "print(\"The goalkeeper with the highest diving ability has a diving ability of\", Ghana[\"GKDiving\"].max(),\".\", \"His name is\", \n",
    "      Gk_dive[\"Name\"], \"from\",Gk_dive[\"Nationality\"], \"and plays for\", Gk_dive[\"Club\"])\n",
    "print(\"The player with the highest agility has agility rating of\", Ghana[\"Agility\"].max(),\".\", \"His name is\", \n",
    "      agility[\"Name\"], \"from\",agility[\"Nationality\"], \"and plays for\", agility[\"Club\"])\n",
    "print(\"The player with the highest stamina has a stamina rating of\", Ghana[\"Stamina\"].max(),\".\", \"His name is\", \n",
    "      stamina[\"Name\"], \"from\",stamina[\"Nationality\"], \"and plays for\", stamina[\"Club\"])\n",
    "print(\"The best controller of the ball has a ball control rate of\", Ghana[\"BallControl\"].max(),\".\", \"His name is\", \n",
    "      control[\"Name\"], \"from\",control[\"Nationality\"], \"and plays for\", control[\"Club\"])\n",
    "print(\"The player with the most powerful shot has a shooting power of\", Ghana[\"ShotPower\"].max(),\".\", \"His name is\", \n",
    "      shot[\"Name\"], \"from\",shot[\"Nationality\"], \"and plays for\", shot[\"Club\"])\n",
    "print(\"The player with the highest acceleration has an acceleration rating of\", Ghana[\"Acceleration\"].max(),\".\", \"His name is\", \n",
    "      acceleration[\"Name\"], \"from\",acceleration[\"Nationality\"], \"and plays for\", acceleration[\"Club\"])\n",
    "print(\"The player who marks very well has a marking rating of\", Ghana[\"Marking\"].max(),\".\", \"His name is\", \n",
    "      marking[\"Name\"], \"from\",marking[\"Nationality\"], \"and plays for\", marking[\"Club\"])\n",
    "print(\"The best freekick taker has an accuracy of\", Ghana[\"FKAccuracy\"].max(),\".\", \"His name is\", \n",
    "      free_kick[\"Name\"], \"from\",free_kick[\"Nationality\"], \"and plays for\", free_kick[\"Club\"])\n",
    "print(\"The best long ball passer of the ball has a passing accuracy of\", Ghana[\"LongPassing\"].max(),\".\", \"His name is\", \n",
    "      long_passing[\"Name\"], \"from\",long_passing[\"Nationality\"], \"and plays for\", long_passing[\"Club\"])\n",
    "print(\"The best finisher has a finishing rating of\", Ghana[\"Finishing\"].max(),\".\", \"His name is\", \n",
    "      finish[\"Name\"], \"from\",finish[\"Nationality\"], \"and plays for\", finish[\"Club\"])\n",
    "\n"
   ]
  },
  {
   "cell_type": "code",
   "execution_count": null,
   "metadata": {},
   "outputs": [],
   "source": [
    "total_players=Ghana[\"Name\"].count()\n",
    "print(\"There are\",total_players,\"players in Ghana from the FIFA 19 dataset\")"
   ]
  },
  {
   "cell_type": "markdown",
   "metadata": {},
   "source": [
    "# AGE DISTRIBUTION OF GHANAIAN PLAYERS"
   ]
  },
  {
   "cell_type": "code",
   "execution_count": null,
   "metadata": {},
   "outputs": [],
   "source": [
    "agegh=Ghana[\"Age\"]\n",
    "age=Ghana.Age\n",
    "plt.title(\"age distribution of Ghanaian players\")\n",
    "plt.hist(agegh)\n",
    "plt.xlabel(\"Age\")\n",
    "plt.ylabel(\"Number of players\")\n",
    "plt.show()\n",
    "print(\"the average age of Ghanaian players on FIFA 19 is \", np.mean(Ghana[\"Age\"]))"
   ]
  },
  {
   "cell_type": "code",
   "execution_count": null,
   "metadata": {},
   "outputs": [],
   "source": []
  },
  {
   "cell_type": "markdown",
   "metadata": {},
   "source": [
    "# ANALYSIS BASED ON LEAGUE"
   ]
  },
  {
   "cell_type": "markdown",
   "metadata": {},
   "source": [
    "# 1. THE ENGLISH PREMEIR LEAGUE"
   ]
  },
  {
   "cell_type": "code",
   "execution_count": null,
   "metadata": {},
   "outputs": [],
   "source": [
    "EPL=[\"Chelsea\", \"Manchester United\", \"Manchester City\", \"Everton\", \"Tottenham Hotspur\",\"Liverpool\",\"Arsenal\",\n",
    "         \"Wolverhampton Wanderers\",\"Brighton & Hove Albion\", \"Crystal Palace\",'Sheffield United', \"Fulham\", \n",
    "   \"West Bromwich Albion\", \"Burnley\", \"Leeds United\", \"West Ham United\", \"Newcastle United\", \"Leicester City\", \"Aston Villa\",\n",
    "     \"Southampton\" ]\n",
    "EPL=data.loc[data[\"Club\"].isin(EPL)]\n",
    "EPL"
   ]
  },
  {
   "cell_type": "code",
   "execution_count": null,
   "metadata": {},
   "outputs": [],
   "source": [
    "EPL[\"Club\"].value_counts()"
   ]
  },
  {
   "cell_type": "code",
   "execution_count": null,
   "metadata": {},
   "outputs": [],
   "source": [
    "#number of different nationalities in the EPL\n",
    "epl=EPL[\"Nationality\"].value_counts()\n",
    "epl"
   ]
  },
  {
   "cell_type": "code",
   "execution_count": null,
   "metadata": {},
   "outputs": [],
   "source": [
    "epl_intl=epl.count()\n",
    "print(\"There are\", epl_intl, \"countries whose players plays in the EPL\")"
   ]
  },
  {
   "cell_type": "code",
   "execution_count": null,
   "metadata": {},
   "outputs": [],
   "source": [
    "total_epl=EPL[\"Name\"].count()\n",
    "total_clubs=EPL[\"Club\"].unique()\n",
    "average_players=(total_epl)/len(total_clubs)\n",
    "print(\"There are a total of\", total_epl,\"players in the EPL\",\".\",\"on average there are\",average_players,\"in each team in the EPL\")"
   ]
  },
  {
   "cell_type": "code",
   "execution_count": null,
   "metadata": {},
   "outputs": [],
   "source": []
  },
  {
   "cell_type": "code",
   "execution_count": null,
   "metadata": {},
   "outputs": [],
   "source": [
    "#looking the the statistical relationship of the various features of epl players\n",
    "EPL[['Age','Crossing', 'International Reputation',\n",
    "       'Skill Moves', 'Work Rate', 'Body Type','Overall', 'Potential', 'Value', 'Wage',\n",
    "       'Finishing', 'HeadingAccuracy', 'ShortPassing', 'Volleys', 'Dribbling',\n",
    "       'Curve', 'FKAccuracy', 'LongPassing', 'BallControl', 'Acceleration',\n",
    "       'SprintSpeed', 'Agility', 'Reactions', 'Balance', 'ShotPower',\n",
    "       'Jumping', 'Stamina', 'Strength', 'LongShots', 'Aggression',\n",
    "       'Interceptions', 'Positioning', 'Vision', 'Penalties', 'Composure',\n",
    "       'Marking', 'StandingTackle', 'SlidingTackle', 'GKDiving', 'GKHandling',\n",
    "       'GKKicking', 'GKPositioning', 'GKReflexes']].corr()"
   ]
  },
  {
   "cell_type": "code",
   "execution_count": null,
   "metadata": {},
   "outputs": [],
   "source": [
    "plt.figure(figsize=(10,8))\n",
    "plt.title(\"Heatmap showing the relationship of the various features of players in EPL\")\n",
    "sns.heatmap(EPL[['Age','Crossing', 'International Reputation',\n",
    "       'Skill Moves', 'Work Rate', 'Body Type','Overall', 'Potential', 'Value', 'Wage',\n",
    "       'Finishing', 'HeadingAccuracy', 'ShortPassing', 'Volleys', 'Dribbling',\n",
    "       'Curve', 'FKAccuracy', 'LongPassing', 'BallControl', 'Acceleration',\n",
    "       'SprintSpeed', 'Agility', 'Reactions', 'Balance', 'ShotPower',\n",
    "       'Jumping', 'Stamina', 'Strength', 'LongShots', 'Aggression',\n",
    "       'Interceptions', 'Positioning', 'Vision', 'Penalties', 'Composure',\n",
    "       'Marking', 'StandingTackle', 'SlidingTackle', 'GKDiving', 'GKHandling',\n",
    "       'GKKicking', 'GKPositioning', 'GKReflexes']].corr(), linewidth=.5)\n",
    "plt.show()"
   ]
  },
  {
   "cell_type": "code",
   "execution_count": null,
   "metadata": {},
   "outputs": [],
   "source": [
    "#looking at the wages of the teams In EPL\n",
    "wages=EPL[\"Wage\"].str.replace('[€,M,K]',\"\")\n",
    "new_wages=wages.astype(\"int\")\n",
    "EPL=EPL['Club']\n",
    "plt.title(\"Distribution of the wages of the teams in EPL\")\n",
    "plt.bar(EPL,new_wages)\n",
    "plt.xticks(rotation=90)\n",
    "plt.show()"
   ]
  },
  {
   "cell_type": "code",
   "execution_count": null,
   "metadata": {},
   "outputs": [],
   "source": []
  },
  {
   "cell_type": "markdown",
   "metadata": {},
   "source": [
    "# ANALYSIS OF LA LIGA TEAMS"
   ]
  },
  {
   "cell_type": "code",
   "execution_count": null,
   "metadata": {},
   "outputs": [],
   "source": [
    "#creating a list of laliga teams \n",
    "laliga=[\"FC Barcelona\", \"Real Madrid\",\"CA Osasuna\", \"Villareal CF\", \"Real Sociedad\", \"Real Betis\", \"Deportivo Alavés\",\n",
    "        'Athletic Club de Bilbao',\"Sevilla FC\",\"RC Celta\",\"Real Valladolid CF\",'Valencia CF', 'RC Celta',\n",
    "        \"SD Huesca\",\"SD Eibar\", \"Elche CF\",\n",
    "        \"Granada CF\", 'Getafe CF',\"Levante UD\",'RCD Espanyol','Cádiz CF','Atlético Madrd']\n",
    "laliga=data[data[\"Club\"].isin(laliga)]\n",
    "\n",
    "\n",
    "laliga"
   ]
  },
  {
   "cell_type": "code",
   "execution_count": null,
   "metadata": {},
   "outputs": [],
   "source": [
    "#teams with their number of players \n",
    "laliga.Club.value_counts()"
   ]
  },
  {
   "cell_type": "code",
   "execution_count": null,
   "metadata": {},
   "outputs": [],
   "source": [
    "#looking at the number of p[layers in each of the countries  whose players are in the LA Liga \n",
    "liga=laliga[\"Nationality\"].value_counts()\n",
    "liga"
   ]
  },
  {
   "cell_type": "code",
   "execution_count": null,
   "metadata": {},
   "outputs": [],
   "source": []
  },
  {
   "cell_type": "code",
   "execution_count": null,
   "metadata": {},
   "outputs": [],
   "source": [
    "liga_intl=liga.count()\n",
    "print(\"there are\", liga_intl, \"players who plays for their national teams in LA Liga \")"
   ]
  },
  {
   "cell_type": "code",
   "execution_count": null,
   "metadata": {},
   "outputs": [],
   "source": [
    "#total and average number of players in LA liga\n",
    "total_players=laliga[\"Name\"].count()\n",
    "teams=laliga[\"Club\"].unique()\n",
    "average_players_laliga=total_players/len(teams)\n",
    "print(\"There are a total of\",total_players, \"players in laliga\",\".\"\"on average, there are\",average_players_laliga, \"in each team in laliga\")"
   ]
  },
  {
   "cell_type": "code",
   "execution_count": null,
   "metadata": {},
   "outputs": [],
   "source": [
    "#statistical representation of LA Liga \n",
    "laliga.describe()"
   ]
  },
  {
   "cell_type": "code",
   "execution_count": null,
   "metadata": {},
   "outputs": [],
   "source": [
    "#heatmap of LA Liga players\n",
    "plt.figure(figsize=(10,8))\n",
    "plt.title(\"Heatmap showing the relationship of the various features of players in LA liga\")\n",
    "sns.heatmap(laliga[['Age','Crossing', 'International Reputation',\n",
    "       'Skill Moves', 'Work Rate', 'Body Type','Overall', 'Potential', 'Value', 'Wage',\n",
    "       'Finishing', 'HeadingAccuracy', 'ShortPassing', 'Volleys', 'Dribbling',\n",
    "       'Curve', 'FKAccuracy', 'LongPassing', 'BallControl', 'Acceleration',\n",
    "       'SprintSpeed', 'Agility', 'Reactions', 'Balance', 'ShotPower',\n",
    "       'Jumping', 'Stamina', 'Strength', 'LongShots', 'Aggression',\n",
    "       'Interceptions', 'Positioning', 'Vision', 'Penalties', 'Composure',\n",
    "       'Marking', 'StandingTackle', 'SlidingTackle', 'GKDiving', 'GKHandling',\n",
    "       'GKKicking', 'GKPositioning', 'GKReflexes']].corr(), linewidth=.5)\n",
    "plt.show()"
   ]
  },
  {
   "cell_type": "code",
   "execution_count": null,
   "metadata": {},
   "outputs": [],
   "source": [
    "plt.scatter(laliga[\"Acceleration\"], laliga[\"LongPassing\"])\n",
    "plt.title(\"Distribution of the relationship between acceleration and long passing\")\n",
    "plt.xlabel(\"Acceleration\")\n",
    "plt.ylabel(\"LongPassing\")\n",
    "plt.show()\n",
    "print(\"from the graph, it can be deduced that, acceleration and long passing are positively correlated. which means that a player \"\n",
    "       \"who has a high acceleration is also good in giving long passes\")"
   ]
  },
  {
   "cell_type": "code",
   "execution_count": null,
   "metadata": {},
   "outputs": [],
   "source": [
    "#looking at the wages of the teams In laliga\n",
    "wages=laliga[\"Wage\"].str.replace('[€,M,K]',\"\")\n",
    "new_wages=wages.astype(\"int\")\n",
    "laliga_teams=laliga['Club']\n",
    "plt.title(\"Distribution of the wages of the teams in La Liga\")\n",
    "plt.bar(laliga_teams, new_wages)\n",
    "plt.xticks(rotation=90)\n",
    "plt.show()"
   ]
  },
  {
   "cell_type": "code",
   "execution_count": null,
   "metadata": {},
   "outputs": [],
   "source": [
    "#looking at the overall rating of the teams In laliga\n",
    "\n",
    "laliga_teams=laliga['Club']\n",
    "overall=laliga['Overall']\n",
    "plt.title(\"Distribution of the wages of the teams in La Liga\")\n",
    "plt.bar(laliga_teams, overall)\n",
    "plt.xticks(rotation=90)\n",
    "plt.show()"
   ]
  },
  {
   "cell_type": "markdown",
   "metadata": {},
   "source": [
    "# COMPARISON BETWEEN LALIGA AND EPL PLAYERS(age and rating)"
   ]
  },
  {
   "cell_type": "code",
   "execution_count": null,
   "metadata": {},
   "outputs": [],
   "source": [
    "#age distribution of players in LA liga\n",
    "plt.title(\"age distribution of LA Liga players\")\n",
    "laliga_age=laliga[\"Age\"]\n",
    "plt.hist(laliga_age)\n",
    "plt.xlabel(\"Age\")\n",
    "plt.ylabel(\"number of players\")\n",
    "plt.show()\n"
   ]
  },
  {
   "cell_type": "code",
   "execution_count": null,
   "metadata": {},
   "outputs": [],
   "source": []
  },
  {
   "cell_type": "code",
   "execution_count": null,
   "metadata": {},
   "outputs": [],
   "source": [
    "#LaliGA overall rating\n",
    "overall=laliga[\"Overall\"]\n",
    "plt.title(\"Distribution of overall ratings of LA Liga players\")\n",
    "plt.hist(overall)\n",
    "plt.xlabel(\"overall rating\")\n",
    "plt.ylabel(\"Number of players\")\n",
    "plt.show()"
   ]
  },
  {
   "cell_type": "code",
   "execution_count": null,
   "metadata": {},
   "outputs": [],
   "source": [
    "laliga_shot=laliga[\"ShotPower\"]\n",
    "plt.title(\"Distribution of shot power in LA liga\")\n",
    "plt.hist(laliga_shot)\n",
    "plt.show()\n",
    "\n"
   ]
  },
  {
   "cell_type": "code",
   "execution_count": null,
   "metadata": {},
   "outputs": [],
   "source": []
  },
  {
   "cell_type": "code",
   "execution_count": null,
   "metadata": {},
   "outputs": [],
   "source": [
    "#statistical description of LA Liga players \n",
    "laliga.describe()"
   ]
  },
  {
   "cell_type": "code",
   "execution_count": null,
   "metadata": {
    "scrolled": true
   },
   "outputs": [],
   "source": [
    "#statistical description of EPL players\n",
    "EPL.describe()"
   ]
  },
  {
   "cell_type": "code",
   "execution_count": null,
   "metadata": {},
   "outputs": [],
   "source": []
  },
  {
   "cell_type": "code",
   "execution_count": null,
   "metadata": {},
   "outputs": [],
   "source": [
    "pen=laliga.loc[laliga[\"Penalties\"].idxmax()]\n",
    "pen[\"Name\"]\n",
    "pen[\"Club\"]\n",
    "pen[\"Nationality\"]\n",
    "print(\"The best penalty taker in laliga is\", pen[\"Name\"], \"plays for\",pen[\"Club\"],\"and from\",pen[\"Nationality\"])"
   ]
  },
  {
   "cell_type": "code",
   "execution_count": null,
   "metadata": {
    "scrolled": true
   },
   "outputs": [],
   "source": [
    "goalkeepers=[\"GK\"]\n",
    "goalkeepers=data[data[\"Position\"].isin(goalkeepers)]\n",
    "goalkeepers"
   ]
  },
  {
   "cell_type": "code",
   "execution_count": null,
   "metadata": {},
   "outputs": [],
   "source": [
    "total_keepers=goalkeepers[\"Name\"].count()\n",
    "print(\"There are a total of\",total_keepers,\"in the FIFA 19 dataset\")"
   ]
  },
  {
   "cell_type": "code",
   "execution_count": null,
   "metadata": {},
   "outputs": [],
   "source": [
    "#altenative way of selecting only keepers\n",
    "data.loc[data[\"Position\"]==\"GK\"]"
   ]
  },
  {
   "cell_type": "code",
   "execution_count": null,
   "metadata": {},
   "outputs": [],
   "source": [
    "goalkeepers.describe()"
   ]
  },
  {
   "cell_type": "code",
   "execution_count": null,
   "metadata": {},
   "outputs": [],
   "source": [
    "goalkeepers_age=goalkeepers[\"Age\"]\n",
    "plt.title(\"Age distribution of goalkepeers worldwide based on FIFA 19 player ratings\")\n",
    "plt.hist(goalkeepers_age)\n",
    "plt.xlabel(\"Age of goalkeeper\")\n",
    "plt.ylabel(\"Number of goalkeepers\")\n",
    "plt.show()"
   ]
  },
  {
   "cell_type": "code",
   "execution_count": null,
   "metadata": {},
   "outputs": [],
   "source": [
    "#distribution of goalkeepers overall rating\n",
    "overall=goalkeepers.Overall\n",
    "plt.title(\"Distribution of goalkeeper  overall rating\")\n",
    "plt.hist(overall)\n",
    "plt.xlabel(\"Rating\")\n",
    "plt.ylabel(\"Number of goalkeepers\")\n",
    "plt.show()"
   ]
  },
  {
   "cell_type": "code",
   "execution_count": null,
   "metadata": {},
   "outputs": [],
   "source": [
    "old_GK=goalkeepers.loc[goalkeepers[\"Age\"].idxmax()]\n",
    "young_GK=goalkeepers.loc[goalkeepers[\"Age\"].idxmin()]\n",
    "print(\"The oldest goalkeeper is\", old_GK[\"Name\"], \"He is\", goalkeepers[\"Age\"].max(), \"from\", old_GK[\"Nationality\"], \"and plays for\", \n",
    "      old_GK[\"Club\"], \"He has a rating of\", old_GK[\"Overall\"])\n",
    "print(\"The youngest goalkeeper is\", young_GK[\"Name\"], \"He is\", goalkeepers[\"Age\"].min(), \"from\", young_GK[\"Nationality\"], \"and plays for\", \n",
    "      young_GK[\"Club\"], \"He has a rating of\", young_GK[\"Overall\"])"
   ]
  },
  {
   "cell_type": "code",
   "execution_count": null,
   "metadata": {},
   "outputs": [],
   "source": [
    "sns.heatmap(goalkeepers[['GKDiving', 'GKHandling',\n",
    "       'GKKicking', 'GKPositioning', 'GKReflexes']].corr(), linewidth=.5)\n",
    "plt.title(\"Heatmap of goalkeepers features\")\n",
    "plt.show()"
   ]
  },
  {
   "cell_type": "code",
   "execution_count": null,
   "metadata": {},
   "outputs": [],
   "source": [
    "goalkeepers[['GKDiving', 'GKHandling',\n",
    "       'GKKicking', 'GKPositioning', 'GKReflexes']].corr()"
   ]
  },
  {
   "cell_type": "code",
   "execution_count": null,
   "metadata": {},
   "outputs": [],
   "source": [
    "goalkeepers_percentage=(total_keepers)/len(data[\"Name\"])*100\n",
    "print(\"There is a percentage of\",goalkeepers_percentage,\" % goalkeepers in the FIFA 19 dataset\")"
   ]
  },
  {
   "cell_type": "markdown",
   "metadata": {},
   "source": [
    "# ANALYSIS OF DEFENDERS"
   ]
  },
  {
   "cell_type": "code",
   "execution_count": null,
   "metadata": {},
   "outputs": [],
   "source": [
    "defenders=['LWB', 'RWB', 'LB', 'LCB', 'CB', 'RCB', 'RB']\n",
    "defenders=data[data[\"Position\"].isin(defenders)]\n",
    "defenders"
   ]
  },
  {
   "cell_type": "code",
   "execution_count": null,
   "metadata": {},
   "outputs": [],
   "source": [
    "defenders.describe()"
   ]
  },
  {
   "cell_type": "code",
   "execution_count": null,
   "metadata": {},
   "outputs": [],
   "source": []
  },
  {
   "cell_type": "code",
   "execution_count": null,
   "metadata": {},
   "outputs": [],
   "source": [
    "total_defenders=defenders[\"Name\"].count()\n",
    "print(\"There are a total of\",total_defenders,\"players in the FIFA 19 dataset\")\n",
    "defenders_percentage=(total_defenders)/len(data[\"Name\"])*100\n",
    "print(\"The percentage of defenders is\",defenders_percentage,\"%\")"
   ]
  },
  {
   "cell_type": "code",
   "execution_count": null,
   "metadata": {},
   "outputs": [],
   "source": [
    "defenders_age=defenders[\"Age\"]\n",
    "plt.title(\"The distribution of the ages of defenders according to FIFA 19 player ratings\")\n",
    "plt.hist(defenders_age )\n",
    "plt.xlabel(\"Age\")\n",
    "plt.ylabel(\"Number of players\")\n",
    "plt.show()\n",
    "\n",
    "#distribution of defenders overall rating\n",
    "overall=defenders.Overall\n",
    "plt.title(\"Distribution of defenders overall rating\")\n",
    "plt.hist(overall)\n",
    "plt.xlabel(\"Rating\")\n",
    "plt.ylabel(\"Number of defenders\")\n",
    "plt.show()"
   ]
  },
  {
   "cell_type": "code",
   "execution_count": null,
   "metadata": {},
   "outputs": [],
   "source": [
    "defenders[['Agility', 'Reactions', 'Balance', \n",
    "       'Jumping', 'Stamina', 'Strength', 'Aggression',\n",
    "       'Interceptions', 'Positioning', 'Vision', 'Penalties', 'Composure',\n",
    "       'Marking', 'StandingTackle', 'SlidingTackle']].corr()"
   ]
  },
  {
   "cell_type": "code",
   "execution_count": null,
   "metadata": {},
   "outputs": [],
   "source": [
    "sns.heatmap(defenders[['Agility', 'Reactions', 'Balance', \n",
    "       'Jumping', 'Stamina', 'Strength', 'Aggression',\n",
    "       'Interceptions', 'Positioning', 'Vision', 'Penalties', 'Composure',\n",
    "       'Marking', 'StandingTackle', 'SlidingTackle']].corr(), linewidth=.5)\n",
    "plt.title(\"Heatmap showing the relationship between the various defending features in FIFA 19\")\n",
    "plt.figure(figsize=(8,8))\n",
    "plt.show()"
   ]
  },
  {
   "cell_type": "code",
   "execution_count": null,
   "metadata": {},
   "outputs": [],
   "source": [
    "old_DF=defenders.loc[defenders['Age'].idxmax()]\n",
    "young_DF=defenders.loc[defenders[\"Age\"].idxmin()]\n",
    "print(\"The oldest defender is\",defenders['Age'].max(),\"years old\",\".\",\"He is\",old_DF[\"Name\"],\"from\",old_DF[\"Nationality\"], \n",
    "      \"plays for\",old_DF[\"Club\"], \"and has a rating of\",old_DF[\"Overall\"])\n",
    "print(\"The youngest defender is\",defenders['Age'].min(),\"years old\",\".\",\"He is\",young_DF[\"Name\"],\"from\",young_DF[\"Nationality\"], \n",
    "      \"plays for\",young_DF[\"Club\"], \"and has a rating of\",young_DF[\"Overall\"])"
   ]
  },
  {
   "cell_type": "code",
   "execution_count": null,
   "metadata": {},
   "outputs": [],
   "source": []
  },
  {
   "cell_type": "markdown",
   "metadata": {},
   "source": [
    "\n",
    "# ANALYSIS OF MIDFIELDERS"
   ]
  },
  {
   "cell_type": "code",
   "execution_count": null,
   "metadata": {},
   "outputs": [],
   "source": [
    "midfielders=['LAM', 'CAM', 'RAM', 'LM', 'LCM', 'CM', 'RCM', 'RM', 'LDM','CDM', 'RDM']\n",
    "midfielders=data.loc[data['Position'].isin(midfielders)]\n",
    "midfielders"
   ]
  },
  {
   "cell_type": "code",
   "execution_count": null,
   "metadata": {},
   "outputs": [],
   "source": [
    "midfielders.describe()"
   ]
  },
  {
   "cell_type": "code",
   "execution_count": null,
   "metadata": {},
   "outputs": [],
   "source": [
    "#distribution of midfielders age\n",
    "midfielders_age=midfielders.Age\n",
    "plt.title(\"Distribution of midfieelders age\")\n",
    "plt.hist(midfielders_age)\n",
    "plt.xlabel(\"Age\")\n",
    "plt.ylabel(\"Number of players\")\n",
    "plt.show()\n",
    "\n",
    "#distribution of midfielders overall rating\n",
    "midfielders_overall=midfielders.Overall\n",
    "plt.title(\"Distribution of midfieelders overall rating\")\n",
    "plt.hist(midfielders_overall)\n",
    "plt.xlabel(\"overall\")\n",
    "plt.ylabel(\"Number of players\")\n",
    "plt.show()"
   ]
  },
  {
   "cell_type": "code",
   "execution_count": null,
   "metadata": {},
   "outputs": [],
   "source": []
  },
  {
   "cell_type": "code",
   "execution_count": null,
   "metadata": {},
   "outputs": [],
   "source": [
    "#heatmap of midfielders with their peculiar features\n",
    "sns.heatmap(midfielders[[ 'Crossing','HeadingAccuracy', 'ShortPassing', 'Dribbling',\n",
    "       'Curve', 'FKAccuracy', 'LongPassing', 'BallControl', 'Acceleration',\n",
    "       'SprintSpeed', 'Agility', 'Reactions', 'Balance', 'ShotPower',\n",
    "       'Jumping', 'Stamina', 'Strength', 'LongShots', 'Aggression',\n",
    "       'Interceptions', 'Positioning', 'Vision', 'Penalties', 'Composure',\n",
    "       'Marking', 'StandingTackle']].corr(), linewidth=.5)\n",
    "plt.title(\"Heatmap of midfielders\")\n",
    "plt.show()\n",
    "\n",
    "midfielders[[ 'Crossing','HeadingAccuracy', 'ShortPassing', 'Volleys', 'Dribbling',\n",
    "       'Curve', 'FKAccuracy', 'LongPassing', 'BallControl', 'Acceleration',\n",
    "       'SprintSpeed', 'Agility', 'Reactions', 'Balance', 'Stamina', 'Strength', 'LongShots', 'Aggression',\n",
    "       'Interceptions', 'Positioning', 'Vision', 'Penalties', 'Composure',\n",
    "       'Marking', 'StandingTackle',]].corr()"
   ]
  },
  {
   "cell_type": "code",
   "execution_count": null,
   "metadata": {},
   "outputs": [],
   "source": []
  },
  {
   "cell_type": "code",
   "execution_count": null,
   "metadata": {},
   "outputs": [],
   "source": [
    "old_MD=midfielders.loc[midfielders[\"Age\"].idxmax()]\n",
    "young_MD=midfielders.loc[midfielders[\"Age\"].idxmin()]\n",
    "print(\"The oldest midfielder is\",midfielders[\"Age\"].max(),\"His name is\",old_MD[\"Name\"],\"from\",old_MD[\"Nationality\"],\"plays for\",\n",
    "     old_MD[\"Club\"],\"and has a rating of\",old_MD[\"Overall\"])\n",
    "print(\"The youngest midfielder is\",midfielders[\"Age\"].min(),\"His name is\",young_MD[\"Name\"],\"from\",young_MD[\"Nationality\"],\"plays for\",\n",
    "     young_MD[\"Club\"],\"and has a rating of\",young_MD[\"Overall\"])"
   ]
  },
  {
   "cell_type": "code",
   "execution_count": null,
   "metadata": {},
   "outputs": [],
   "source": [
    "total_midfielders=midfielders.Name.count()\n",
    "midfielders_percentage=total_midfielders/len(data[\"Name\"])*100\n",
    "print(\"the percentage of midfielders is\",midfielders_percentage,\"%\")"
   ]
  },
  {
   "cell_type": "markdown",
   "metadata": {},
   "source": [
    "# ANALYSIS OF STRIKERS"
   ]
  },
  {
   "cell_type": "code",
   "execution_count": null,
   "metadata": {},
   "outputs": [],
   "source": [
    "strikers=['LS', 'ST', 'RS', 'LW', 'LF', 'CF', 'RF', 'RW']\n",
    "strikers=data[data[\"Position\"].isin(strikers)]\n",
    "strikers"
   ]
  },
  {
   "cell_type": "code",
   "execution_count": null,
   "metadata": {},
   "outputs": [],
   "source": [
    "strikers.describe()"
   ]
  },
  {
   "cell_type": "code",
   "execution_count": null,
   "metadata": {},
   "outputs": [],
   "source": [
    "#distribution of midfielders age\n",
    "strikers_age=strikers.Age\n",
    "plt.title(\"Distribution of strikers age\")\n",
    "plt.hist(strikers_age)\n",
    "plt.xlabel(\"Age\")\n",
    "plt.ylabel(\"Number of players\")\n",
    "plt.show()\n",
    "\n",
    "#distribution of midfielders overall rating\n",
    "strikers_overall=strikers.Overall\n",
    "plt.title(\"Distribution of strikers overall rating\")\n",
    "plt.hist(strikers_overall)\n",
    "plt.xlabel(\"overall\")\n",
    "plt.ylabel(\"Number of players\")\n",
    "plt.show()"
   ]
  },
  {
   "cell_type": "code",
   "execution_count": null,
   "metadata": {},
   "outputs": [],
   "source": [
    "sns.heatmap(strikers[['Potential','Work Rate','Crossing',\n",
    "       'Finishing', 'HeadingAccuracy', 'ShortPassing', 'Volleys', 'Dribbling',\n",
    "       'Curve', 'FKAccuracy', 'LongPassing', 'BallControl', 'Acceleration',\n",
    "       'SprintSpeed', 'Agility', 'Reactions', 'Balance', 'ShotPower',\n",
    "       'Jumping', 'Stamina', 'Strength', 'LongShots', 'Aggression','Positioning', 'Vision', 'Penalties', 'Composure',]].corr(),\n",
    "            linewidth=.5)\n",
    "plt.figure(figsize=(10,10))\n",
    "plt.show()\n",
    "\n",
    "strikers[['Potential','Work Rate','Crossing',\n",
    "       'Finishing', 'HeadingAccuracy', 'ShortPassing', 'Volleys', 'Dribbling',\n",
    "       'Curve', 'FKAccuracy', 'LongPassing', 'BallControl', 'Acceleration',\n",
    "       'SprintSpeed', 'Agility', 'Reactions', 'Balance', 'ShotPower',\n",
    "       'Jumping', 'Stamina', 'Strength', 'LongShots', 'Aggression','Positioning', 'Vision', 'Penalties', 'Composure',]].corr()"
   ]
  },
  {
   "cell_type": "code",
   "execution_count": null,
   "metadata": {},
   "outputs": [],
   "source": [
    "total_strikers=strikers[\"Name\"].count()\n",
    "strikers_percentage=(total_strikers)/len(data[\"Name\"])*100\n",
    "print('There is a total of',total_strikers,\"strikers in FIFA 19, with a percentage of\", strikers_percentage,\"%\")"
   ]
  },
  {
   "cell_type": "code",
   "execution_count": null,
   "metadata": {},
   "outputs": [],
   "source": [
    "plt.title(\"A Pie chart showing the percentage of the various positions\")\n",
    "positions=(goalkeepers_percentage,defenders_percentage,midfielders_percentage,strikers_percentage)\n",
    "plt.pie(positions, labels=(\"goalkeepers_percentage\", \"defenders_percentage\",\"midfielders_percentage\",\"strikers_percentage\"),\n",
    "        autopct='%1.1f%%') \n",
    "plt.show()"
   ]
  },
  {
   "cell_type": "markdown",
   "metadata": {},
   "source": [
    "# CLUB ANALYSIS\n"
   ]
  },
  {
   "cell_type": "code",
   "execution_count": null,
   "metadata": {},
   "outputs": [],
   "source": [
    "#looking at some big teams in the world "
   ]
  },
  {
   "cell_type": "code",
   "execution_count": null,
   "metadata": {
    "scrolled": true
   },
   "outputs": [],
   "source": [
    "big_teams=['FC Barcelona','Real Madrid','Atlético Madrd', 'Sevilla FC','Liverpool','Chelsea','Manchester City',\n",
    "          'Manchester United','Borussia Dortmund',\"Arsenal\",'Milan','Inter','Juventus','Napoli','Paris Saint-Germain',\n",
    "          'Olympique Lyon','FC Bayern München','Burrossia Dortmund',]\n",
    "big_teams=data.loc[data[\"Club\"].isin(big_teams)]\n",
    "big_teams"
   ]
  },
  {
   "cell_type": "code",
   "execution_count": null,
   "metadata": {},
   "outputs": [],
   "source": [
    "big_teams[\"Club\"].value_counts()"
   ]
  },
  {
   "cell_type": "code",
   "execution_count": null,
   "metadata": {},
   "outputs": [],
   "source": [
    "#comparing the wages of players in the big teams\n",
    "wages=big_teams['Wage'].str.replace('[€,M,K]','')\n",
    "new_wages=wages.astype('int')\n",
    "teams=big_teams[\"Club\"]\n",
    "plt.title(\"Distribution of wages of the big teams in the world \")\n",
    "plt.bar(teams,new_wages)\n",
    "plt.xlabel(\"Teams\")\n",
    "plt.ylabel(\"Wages\")\n",
    "plt.xticks(rotation=90)\n",
    "plt.show()"
   ]
  },
  {
   "cell_type": "code",
   "execution_count": null,
   "metadata": {},
   "outputs": [],
   "source": [
    "#looking at the overall ratings of the big teams \n",
    "overall=big_teams[\"Overall\"]\n",
    "teams=big_teams[\"Club\"]\n",
    "plt.title(\"distribution to compare the overall ratings of players in the big teams\")\n",
    "plt.bar(teams, overall)\n",
    "plt.xlabel(\"Team\")\n",
    "plt.ylabel(\"Overall rating\")\n",
    "plt.xticks(rotation=90)\n",
    "plt.show()"
   ]
  },
  {
   "cell_type": "code",
   "execution_count": null,
   "metadata": {},
   "outputs": [],
   "source": []
  },
  {
   "cell_type": "code",
   "execution_count": null,
   "metadata": {},
   "outputs": [],
   "source": []
  }
 ],
 "metadata": {
  "kernelspec": {
   "display_name": "Python 3",
   "language": "python",
   "name": "python3"
  },
  "language_info": {
   "codemirror_mode": {
    "name": "ipython",
    "version": 3
   },
   "file_extension": ".py",
   "mimetype": "text/x-python",
   "name": "python",
   "nbconvert_exporter": "python",
   "pygments_lexer": "ipython3",
   "version": "3.8.3"
  }
 },
 "nbformat": 4,
 "nbformat_minor": 2
}
